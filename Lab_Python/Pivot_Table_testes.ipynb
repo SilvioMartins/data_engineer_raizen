{
 "cells": [
  {
   "cell_type": "markdown",
   "metadata": {},
   "source": [
    "Importação de Bbliotecas"
   ]
  },
  {
   "cell_type": "code",
   "execution_count": 11,
   "metadata": {},
   "outputs": [],
   "source": [
    "import requests\n",
    "import zipfile\n",
    "import xml.etree.ElementTree as ET\n",
    "import pandas as pd\n",
    "import os as os\n",
    "from xml.dom import minidom"
   ]
  },
  {
   "cell_type": "markdown",
   "metadata": {},
   "source": [
    "Incialização de variáveis"
   ]
  },
  {
   "cell_type": "code",
   "execution_count": null,
   "metadata": {},
   "outputs": [],
   "source": [
    "C:\\Users\\silvio.martins\\OneDrive - Accenture\\Documents\\Silvio\\Lab_Python\\dados_raw.xls\n"
   ]
  },
  {
   "cell_type": "code",
   "execution_count": 8,
   "metadata": {},
   "outputs": [
    {
     "data": {
      "text/plain": [
       "'c:\\\\Users\\\\silvio.martins\\\\OneDrive - Accenture\\\\Documents\\\\Silvio\\\\Lab_Python'"
      ]
     },
     "execution_count": 8,
     "metadata": {},
     "output_type": "execute_result"
    }
   ],
   "source": [
    "pwd"
   ]
  },
  {
   "cell_type": "markdown",
   "metadata": {},
   "source": [
    "Download Planilha dinâmica .xls"
   ]
  },
  {
   "cell_type": "code",
   "execution_count": 7,
   "metadata": {},
   "outputs": [
    {
     "data": {
      "text/plain": [
       "10533888"
      ]
     },
     "execution_count": 7,
     "metadata": {},
     "output_type": "execute_result"
    }
   ],
   "source": [
    "url = 'https://github.com/raizen-analytics/data-engineering-test/raw/master/assets/vendas-combustiveis-m3.xls'\n",
    "arquivo = requests.get(url, allow_redirects=True)\n",
    "open('dados_raw.xls', 'wb').write(arquivo.content)"
   ]
  },
  {
   "cell_type": "markdown",
   "metadata": {},
   "source": [
    "Conversão .xls --> .xlsx"
   ]
  },
  {
   "cell_type": "code",
   "execution_count": null,
   "metadata": {},
   "outputs": [],
   "source": []
  },
  {
   "cell_type": "markdown",
   "metadata": {},
   "source": [
    "Unzip File .xlsx"
   ]
  },
  {
   "cell_type": "code",
   "execution_count": 10,
   "metadata": {},
   "outputs": [],
   "source": [
    "with zipfile.ZipFile(r'C:\\Users\\silvio.martins\\OneDrive - Accenture\\Documents\\Silvio\\Lab_Python\\dados_raw.xlsx', 'r') as zip_ref:\n",
    "    zip_ref.extractall(r'C:\\Users\\silvio.martins\\OneDrive - Accenture\\Documents\\Silvio\\Lab_Python')"
   ]
  },
  {
   "cell_type": "markdown",
   "metadata": {},
   "source": [
    "Tratando o .xml"
   ]
  },
  {
   "cell_type": "code",
   "execution_count": 76,
   "metadata": {},
   "outputs": [],
   "source": [
    "#ler do arquivo\n",
    "arq_xml = r'C:\\Users\\silvio.martins\\OneDrive - Accenture\\Documents\\Silvio\\Lab_Python\\xl\\pivotCache\\pivotCacheDefinition1.xml'\n",
    "#xmldoc = minidom.parse(arq_xml)\n",
    "tree = ET.parse(arq_xml)\n"
   ]
  },
  {
   "cell_type": "code",
   "execution_count": null,
   "metadata": {},
   "outputs": [],
   "source": [
    "root = tree.getroot()\n",
    "root.attrib"
   ]
  },
  {
   "cell_type": "markdown",
   "metadata": {},
   "source": [
    "Extraindo Lista de Produtos"
   ]
  },
  {
   "cell_type": "code",
   "execution_count": 53,
   "metadata": {},
   "outputs": [],
   "source": [
    "\n",
    "list_prod=[(x.attrib) for x in root[1][0][0]]\n",
    "list_prod = [list_prod[list_prod.index(x)]['v'] for x in list_prod]\n",
    "print(list_prod)"
   ]
  },
  {
   "cell_type": "markdown",
   "metadata": {},
   "source": [
    "Extraindo Lista Ano"
   ]
  },
  {
   "cell_type": "code",
   "execution_count": null,
   "metadata": {},
   "outputs": [],
   "source": [
    "list_year=[(x.attrib) for x in root[1][1][0]]\n",
    "list_year = [list_year[list_year.index(x)]['v'] for x in list_year]\n",
    "print(list_year)"
   ]
  },
  {
   "cell_type": "markdown",
   "metadata": {},
   "source": [
    "Extraindo Lista Região"
   ]
  },
  {
   "cell_type": "code",
   "execution_count": 70,
   "metadata": {},
   "outputs": [
    {
     "name": "stdout",
     "output_type": "stream",
     "text": [
      "['REGIÃO NORTE', 'REGIÃO NORDESTE', 'REGIÃO SUDESTE', 'REGIÃO SUL', 'REGIÃO CENTRO-OESTE']\n"
     ]
    }
   ],
   "source": [
    "list_region=[(x.attrib) for x in root[1][2][0]]\n",
    "list_region = [list_region[list_region.index(x)]['v'] for x in list_region]\n",
    "print(list_region)"
   ]
  },
  {
   "cell_type": "markdown",
   "metadata": {},
   "source": [
    "Extraindo Lista Estado"
   ]
  },
  {
   "cell_type": "code",
   "execution_count": null,
   "metadata": {},
   "outputs": [],
   "source": [
    "list_state=[(x.attrib) for x in root[1][3][0]]\n",
    "list_state = [list_state[list_state.index(x)]['v'] for x in list_state]\n",
    "print(list_state)"
   ]
  },
  {
   "cell_type": "code",
   "execution_count": null,
   "metadata": {},
   "outputs": [],
   "source": [
    "defdict = {}\n",
    "columnas = []\n",
    "#e = ET.parse(arq_xml).getroot()\n",
    "for fields in tree.findall('{http://schemas.openxmlformats.org/spreadsheetml/2006/main}cacheFields'):\n",
    "    for cidx, field in enumerate(fields.getchildren()):\n",
    "        columna = field.attrib.get('name')\n",
    "        defdict[cidx] = []\n",
    "        columnas.append(columna)\n",
    "        for value in field.getchildren()[0].getchildren():\n",
    "            tagname = value.tag\n",
    "            defdict[cidx].append(value.attrib.get('v', 0))\n",
    "\n",
    "\n",
    "            try:\n",
    "                    rdata = defdict[cidx][int(vattrib)]\n",
    "                except:\n",
    "                    logging.error('this it not should happen index cidx = {} vattrib = {} defaultidcts = {} tmpdata for the time = {} xml raw {}'.format(\n",
    "                                                                                                                                                cidx, vattrib, defdict, tmpdata,\n",
    "                                                                                                                                                xml.etree.ElementTree.tostring(elem, encoding='utf8', method='xml')\n",
    "                                        "
   ]
  },
  {
   "cell_type": "code",
   "execution_count": 86,
   "metadata": {},
   "outputs": [
    {
     "ename": "AttributeError",
     "evalue": "'xml.etree.ElementTree.Element' object has no attribute 'getchildren'",
     "output_type": "error",
     "traceback": [
      "\u001b[1;31m---------------------------------------------------------------------------\u001b[0m",
      "\u001b[1;31mAttributeError\u001b[0m                            Traceback (most recent call last)",
      "\u001b[1;32mc:\\Users\\silvio.martins\\OneDrive - Accenture\\Documents\\Silvio\\Lab_Python\\Pivot_Table_testes.ipynb Cell 24'\u001b[0m in \u001b[0;36m<cell line: 3>\u001b[1;34m()\u001b[0m\n\u001b[0;32m      <a href='vscode-notebook-cell:/c%3A/Users/silvio.martins/OneDrive%20-%20Accenture/Documents/Silvio/Lab_Python/Pivot_Table_testes.ipynb#ch0000027?line=3'>4</a>\u001b[0m \u001b[39mif\u001b[39;00m elem\u001b[39m.\u001b[39mtag \u001b[39m==\u001b[39m \u001b[39m'\u001b[39m\u001b[39m{\u001b[39m\u001b[39mhttp://schemas.openxmlformats.org/spreadsheetml/2006/main}r\u001b[39m\u001b[39m'\u001b[39m \u001b[39mand\u001b[39;00m event \u001b[39m==\u001b[39m \u001b[39m'\u001b[39m\u001b[39mstart\u001b[39m\u001b[39m'\u001b[39m:\n\u001b[0;32m      <a href='vscode-notebook-cell:/c%3A/Users/silvio.martins/OneDrive%20-%20Accenture/Documents/Silvio/Lab_Python/Pivot_Table_testes.ipynb#ch0000027?line=4'>5</a>\u001b[0m     tmpdata \u001b[39m=\u001b[39m []\n\u001b[1;32m----> <a href='vscode-notebook-cell:/c%3A/Users/silvio.martins/OneDrive%20-%20Accenture/Documents/Silvio/Lab_Python/Pivot_Table_testes.ipynb#ch0000027?line=5'>6</a>\u001b[0m     \u001b[39mfor\u001b[39;00m cidx, valueobj \u001b[39min\u001b[39;00m \u001b[39menumerate\u001b[39m(elem\u001b[39m.\u001b[39;49mgetchildren()):\n\u001b[0;32m      <a href='vscode-notebook-cell:/c%3A/Users/silvio.martins/OneDrive%20-%20Accenture/Documents/Silvio/Lab_Python/Pivot_Table_testes.ipynb#ch0000027?line=6'>7</a>\u001b[0m         tagname \u001b[39m=\u001b[39m valueobj\u001b[39m.\u001b[39mtag\n\u001b[0;32m      <a href='vscode-notebook-cell:/c%3A/Users/silvio.martins/OneDrive%20-%20Accenture/Documents/Silvio/Lab_Python/Pivot_Table_testes.ipynb#ch0000027?line=7'>8</a>\u001b[0m         vattrib \u001b[39m=\u001b[39m valueobj\u001b[39m.\u001b[39mattrib\u001b[39m.\u001b[39mget(\u001b[39m'\u001b[39m\u001b[39mv\u001b[39m\u001b[39m'\u001b[39m)\n",
      "\u001b[1;31mAttributeError\u001b[0m: 'xml.etree.ElementTree.Element' object has no attribute 'getchildren'"
     ]
    }
   ],
   "source": [
    "dfdata = []\n",
    "bdata = r'C:\\Users\\silvio.martins\\OneDrive - Accenture\\Documents\\Silvio\\Lab_Python\\xl\\pivotCache\\pivotCacheRecords1.xml'\n",
    "for event, elem in ET.iterparse(bdata, events=('start', 'end')):\n",
    "    if elem.tag == '{http://schemas.openxmlformats.org/spreadsheetml/2006/main}r' and event == 'start':\n",
    "        tmpdata = []\n",
    "        for cidx, valueobj in enumerate(elem.getchildren()):\n",
    "            tagname = valueobj.tag\n",
    "            vattrib = valueobj.attrib.get('v')\n",
    "            rdata = vattrib\n",
    "            if tagname == '{http://schemas.openxmlformats.org/spreadsheetml/2006/main}x':\n",
    "                rdata = defdict[cidx][int(vattrib)]\n",
    "            tmpdata.append(rdata)\n",
    "        if tmpdata:\n",
    "            dfdata.append(tmpdata)\n",
    "        elem.clear()"
   ]
  },
  {
   "cell_type": "code",
   "execution_count": 87,
   "metadata": {},
   "outputs": [],
   "source": [
    "df = pd.DataFrame(dfdata)"
   ]
  },
  {
   "cell_type": "code",
   "execution_count": 89,
   "metadata": {},
   "outputs": [
    {
     "name": "stdout",
     "output_type": "stream",
     "text": [
      "Empty DataFrame\n",
      "Columns: []\n",
      "Index: []\n"
     ]
    }
   ],
   "source": [
    "print(df)"
   ]
  },
  {
   "cell_type": "code",
   "execution_count": 95,
   "metadata": {},
   "outputs": [
    {
     "name": "stdout",
     "output_type": "stream",
     "text": [
      "ARQ Existe :  False\n"
     ]
    }
   ],
   "source": [
    " print('ARQ Existe : ', os.path.isfile(r'C:\\Userrs\\silvio.martins\\OneDrive - Accenture\\Documents\\Silvio\\Lab_Python\\dados_raw.xls'))"
   ]
  },
  {
   "cell_type": "code",
   "execution_count": 96,
   "metadata": {},
   "outputs": [],
   "source": [
    "import pyexcel as pe"
   ]
  },
  {
   "cell_type": "code",
   "execution_count": null,
   "metadata": {},
   "outputs": [],
   "source": [
    "pe.save_book_as(file_name=r'C:\\Users\\silvio.martins\\OneDrive - Accenture\\Documents\\Silvio\\Lab_Python\\dados_raw.xls',dest_file_name=r'C:\\Users\\silvio.martins\\OneDrive - Accenture\\Documents\\Silvio\\Lab_Python\\dados_xlsx_raw.xlsx')"
   ]
  },
  {
   "cell_type": "code",
   "execution_count": null,
   "metadata": {},
   "outputs": [],
   "source": []
  },
  {
   "cell_type": "code",
   "execution_count": 2,
   "metadata": {},
   "outputs": [],
   "source": [
    "import json\n",
    "import pandas as pd\n",
    "import requests"
   ]
  },
  {
   "cell_type": "code",
   "execution_count": 4,
   "metadata": {},
   "outputs": [],
   "source": [
    "jraw = requests.get('https://api.similarweb.com/v1/website/futemax.gratis/lead-enrichment/all?api_key=c829d712a1cb439e9a91c5baa2caa995&start_date=2021-10&end_date=2022-03&country=br&main_domain_only=false&format=json&show_verified=false').json()"
   ]
  },
  {
   "cell_type": "code",
   "execution_count": 43,
   "metadata": {},
   "outputs": [],
   "source": []
  },
  {
   "cell_type": "code",
   "execution_count": 51,
   "metadata": {},
   "outputs": [
    {
     "data": {
      "text/html": [
       "<div>\n",
       "<style scoped>\n",
       "    .dataframe tbody tr th:only-of-type {\n",
       "        vertical-align: middle;\n",
       "    }\n",
       "\n",
       "    .dataframe tbody tr th {\n",
       "        vertical-align: top;\n",
       "    }\n",
       "\n",
       "    .dataframe thead th {\n",
       "        text-align: right;\n",
       "    }\n",
       "</style>\n",
       "<table border=\"1\" class=\"dataframe\">\n",
       "  <thead>\n",
       "    <tr style=\"text-align: right;\">\n",
       "      <th></th>\n",
       "      <th>dim</th>\n",
       "      <th>data</th>\n",
       "      <th>valor</th>\n",
       "    </tr>\n",
       "  </thead>\n",
       "  <tbody>\n",
       "  </tbody>\n",
       "</table>\n",
       "</div>"
      ],
      "text/plain": [
       "Empty DataFrame\n",
       "Columns: [dim, data, valor]\n",
       "Index: []"
      ]
     },
     "execution_count": 51,
     "metadata": {},
     "output_type": "execute_result"
    }
   ],
   "source": [
    "df"
   ]
  },
  {
   "cell_type": "code",
   "execution_count": null,
   "metadata": {},
   "outputs": [],
   "source": [
    "display(jraw)"
   ]
  },
  {
   "cell_type": "code",
   "execution_count": 32,
   "metadata": {},
   "outputs": [
    {
     "name": "stdout",
     "output_type": "stream",
     "text": [
      "meta\n",
      "global_rank\n",
      "site_type\n",
      "company_name\n",
      "employee_range\n",
      "estimated_revenue_in_usd\n",
      "zip_code\n",
      "headquarters\n",
      "website_category\n",
      "category_rank\n",
      "pages_per_visit\n",
      "visits\n",
      "mom_growth\n",
      "unique_visitors\n",
      "bounce_rate\n",
      "average_visit_duration\n",
      "mobile_desktop_share\n",
      "traffic_sources\n",
      "geography_share\n"
     ]
    }
   ],
   "source": [
    "for x in jraw:\n",
    "    print(x)"
   ]
  },
  {
   "cell_type": "code",
   "execution_count": null,
   "metadata": {},
   "outputs": [],
   "source": [
    "print(jraw['mobile_desktop_share'])"
   ]
  },
  {
   "cell_type": "code",
   "execution_count": null,
   "metadata": {},
   "outputs": [],
   "source": [
    "for i,v in enumerate(jraw):\n",
    "    print(jraw[v])"
   ]
  },
  {
   "cell_type": "code",
   "execution_count": 18,
   "metadata": {},
   "outputs": [
    {
     "data": {
      "text/plain": [
       "'2021-10-01'"
      ]
     },
     "execution_count": 18,
     "metadata": {},
     "output_type": "execute_result"
    }
   ],
   "source": [
    "jraw['pages_per_visit'][0]['date']\n",
    " print(item,item_1[ind_]['date'],item_1[ind_]['value'])"
   ]
  },
  {
   "cell_type": "code",
   "execution_count": 64,
   "metadata": {},
   "outputs": [],
   "source": [
    "lista = []"
   ]
  },
  {
   "cell_type": "code",
   "execution_count": 65,
   "metadata": {},
   "outputs": [],
   "source": [
    "for ind, item in enumerate(jraw):\n",
    "    if ind>9 and ind<16:\n",
    "        for ind_, item_1 in enumerate(jraw[item]):\n",
    "            lista.append({'dim':item,'data':item_1['date'],'valor':item_1['value']})\n",
    "       "
   ]
  },
  {
   "cell_type": "code",
   "execution_count": 67,
   "metadata": {},
   "outputs": [],
   "source": [
    "colunas = ['dim','data','valor']\n",
    "df = pd.DataFrame(data=lista,columns=colunas)"
   ]
  },
  {
   "cell_type": "code",
   "execution_count": 68,
   "metadata": {},
   "outputs": [
    {
     "data": {
      "text/html": [
       "<div>\n",
       "<style scoped>\n",
       "    .dataframe tbody tr th:only-of-type {\n",
       "        vertical-align: middle;\n",
       "    }\n",
       "\n",
       "    .dataframe tbody tr th {\n",
       "        vertical-align: top;\n",
       "    }\n",
       "\n",
       "    .dataframe thead th {\n",
       "        text-align: right;\n",
       "    }\n",
       "</style>\n",
       "<table border=\"1\" class=\"dataframe\">\n",
       "  <thead>\n",
       "    <tr style=\"text-align: right;\">\n",
       "      <th></th>\n",
       "      <th>dim</th>\n",
       "      <th>data</th>\n",
       "      <th>valor</th>\n",
       "    </tr>\n",
       "  </thead>\n",
       "  <tbody>\n",
       "    <tr>\n",
       "      <th>0</th>\n",
       "      <td>pages_per_visit</td>\n",
       "      <td>2021-10-01</td>\n",
       "      <td>5.497139e+00</td>\n",
       "    </tr>\n",
       "    <tr>\n",
       "      <th>1</th>\n",
       "      <td>pages_per_visit</td>\n",
       "      <td>2021-11-01</td>\n",
       "      <td>5.128352e+00</td>\n",
       "    </tr>\n",
       "    <tr>\n",
       "      <th>2</th>\n",
       "      <td>pages_per_visit</td>\n",
       "      <td>2021-12-01</td>\n",
       "      <td>4.786840e+00</td>\n",
       "    </tr>\n",
       "    <tr>\n",
       "      <th>3</th>\n",
       "      <td>pages_per_visit</td>\n",
       "      <td>2022-01-01</td>\n",
       "      <td>4.892697e+00</td>\n",
       "    </tr>\n",
       "    <tr>\n",
       "      <th>4</th>\n",
       "      <td>pages_per_visit</td>\n",
       "      <td>2022-02-01</td>\n",
       "      <td>4.965844e+00</td>\n",
       "    </tr>\n",
       "    <tr>\n",
       "      <th>5</th>\n",
       "      <td>pages_per_visit</td>\n",
       "      <td>2022-03-01</td>\n",
       "      <td>4.918370e+00</td>\n",
       "    </tr>\n",
       "    <tr>\n",
       "      <th>6</th>\n",
       "      <td>visits</td>\n",
       "      <td>2021-10-01</td>\n",
       "      <td>2.391936e+07</td>\n",
       "    </tr>\n",
       "    <tr>\n",
       "      <th>7</th>\n",
       "      <td>visits</td>\n",
       "      <td>2021-11-01</td>\n",
       "      <td>2.432365e+07</td>\n",
       "    </tr>\n",
       "    <tr>\n",
       "      <th>8</th>\n",
       "      <td>visits</td>\n",
       "      <td>2021-12-01</td>\n",
       "      <td>1.338677e+07</td>\n",
       "    </tr>\n",
       "    <tr>\n",
       "      <th>9</th>\n",
       "      <td>visits</td>\n",
       "      <td>2022-01-01</td>\n",
       "      <td>1.940304e+07</td>\n",
       "    </tr>\n",
       "    <tr>\n",
       "      <th>10</th>\n",
       "      <td>visits</td>\n",
       "      <td>2022-02-01</td>\n",
       "      <td>2.833882e+07</td>\n",
       "    </tr>\n",
       "    <tr>\n",
       "      <th>11</th>\n",
       "      <td>visits</td>\n",
       "      <td>2022-03-01</td>\n",
       "      <td>2.807715e+07</td>\n",
       "    </tr>\n",
       "    <tr>\n",
       "      <th>12</th>\n",
       "      <td>mom_growth</td>\n",
       "      <td>2021-10-01</td>\n",
       "      <td>4.153002e-02</td>\n",
       "    </tr>\n",
       "    <tr>\n",
       "      <th>13</th>\n",
       "      <td>mom_growth</td>\n",
       "      <td>2021-11-01</td>\n",
       "      <td>1.690226e-02</td>\n",
       "    </tr>\n",
       "    <tr>\n",
       "      <th>14</th>\n",
       "      <td>mom_growth</td>\n",
       "      <td>2021-12-01</td>\n",
       "      <td>-4.496396e-01</td>\n",
       "    </tr>\n",
       "    <tr>\n",
       "      <th>15</th>\n",
       "      <td>mom_growth</td>\n",
       "      <td>2022-01-01</td>\n",
       "      <td>4.494189e-01</td>\n",
       "    </tr>\n",
       "    <tr>\n",
       "      <th>16</th>\n",
       "      <td>mom_growth</td>\n",
       "      <td>2022-02-01</td>\n",
       "      <td>4.605351e-01</td>\n",
       "    </tr>\n",
       "    <tr>\n",
       "      <th>17</th>\n",
       "      <td>mom_growth</td>\n",
       "      <td>2022-03-01</td>\n",
       "      <td>-9.233903e-03</td>\n",
       "    </tr>\n",
       "    <tr>\n",
       "      <th>18</th>\n",
       "      <td>unique_visitors</td>\n",
       "      <td>2021-10-01</td>\n",
       "      <td>4.518381e+06</td>\n",
       "    </tr>\n",
       "    <tr>\n",
       "      <th>19</th>\n",
       "      <td>unique_visitors</td>\n",
       "      <td>2021-11-01</td>\n",
       "      <td>4.524764e+06</td>\n",
       "    </tr>\n",
       "    <tr>\n",
       "      <th>20</th>\n",
       "      <td>unique_visitors</td>\n",
       "      <td>2021-12-01</td>\n",
       "      <td>3.355897e+06</td>\n",
       "    </tr>\n",
       "    <tr>\n",
       "      <th>21</th>\n",
       "      <td>unique_visitors</td>\n",
       "      <td>2022-01-01</td>\n",
       "      <td>4.441010e+06</td>\n",
       "    </tr>\n",
       "    <tr>\n",
       "      <th>22</th>\n",
       "      <td>unique_visitors</td>\n",
       "      <td>2022-02-01</td>\n",
       "      <td>5.645370e+06</td>\n",
       "    </tr>\n",
       "    <tr>\n",
       "      <th>23</th>\n",
       "      <td>unique_visitors</td>\n",
       "      <td>2022-03-01</td>\n",
       "      <td>5.818075e+06</td>\n",
       "    </tr>\n",
       "    <tr>\n",
       "      <th>24</th>\n",
       "      <td>bounce_rate</td>\n",
       "      <td>2021-10-01</td>\n",
       "      <td>2.438835e-01</td>\n",
       "    </tr>\n",
       "    <tr>\n",
       "      <th>25</th>\n",
       "      <td>bounce_rate</td>\n",
       "      <td>2021-11-01</td>\n",
       "      <td>2.605655e-01</td>\n",
       "    </tr>\n",
       "    <tr>\n",
       "      <th>26</th>\n",
       "      <td>bounce_rate</td>\n",
       "      <td>2021-12-01</td>\n",
       "      <td>2.797902e-01</td>\n",
       "    </tr>\n",
       "    <tr>\n",
       "      <th>27</th>\n",
       "      <td>bounce_rate</td>\n",
       "      <td>2022-01-01</td>\n",
       "      <td>2.790474e-01</td>\n",
       "    </tr>\n",
       "    <tr>\n",
       "      <th>28</th>\n",
       "      <td>bounce_rate</td>\n",
       "      <td>2022-02-01</td>\n",
       "      <td>2.742443e-01</td>\n",
       "    </tr>\n",
       "    <tr>\n",
       "      <th>29</th>\n",
       "      <td>bounce_rate</td>\n",
       "      <td>2022-03-01</td>\n",
       "      <td>2.678584e-01</td>\n",
       "    </tr>\n",
       "    <tr>\n",
       "      <th>30</th>\n",
       "      <td>average_visit_duration</td>\n",
       "      <td>2021-10-01</td>\n",
       "      <td>5.547552e+02</td>\n",
       "    </tr>\n",
       "    <tr>\n",
       "      <th>31</th>\n",
       "      <td>average_visit_duration</td>\n",
       "      <td>2021-11-01</td>\n",
       "      <td>5.231005e+02</td>\n",
       "    </tr>\n",
       "    <tr>\n",
       "      <th>32</th>\n",
       "      <td>average_visit_duration</td>\n",
       "      <td>2021-12-01</td>\n",
       "      <td>4.488943e+02</td>\n",
       "    </tr>\n",
       "    <tr>\n",
       "      <th>33</th>\n",
       "      <td>average_visit_duration</td>\n",
       "      <td>2022-01-01</td>\n",
       "      <td>4.973509e+02</td>\n",
       "    </tr>\n",
       "    <tr>\n",
       "      <th>34</th>\n",
       "      <td>average_visit_duration</td>\n",
       "      <td>2022-02-01</td>\n",
       "      <td>5.297885e+02</td>\n",
       "    </tr>\n",
       "    <tr>\n",
       "      <th>35</th>\n",
       "      <td>average_visit_duration</td>\n",
       "      <td>2022-03-01</td>\n",
       "      <td>4.785888e+02</td>\n",
       "    </tr>\n",
       "  </tbody>\n",
       "</table>\n",
       "</div>"
      ],
      "text/plain": [
       "                       dim        data         valor\n",
       "0          pages_per_visit  2021-10-01  5.497139e+00\n",
       "1          pages_per_visit  2021-11-01  5.128352e+00\n",
       "2          pages_per_visit  2021-12-01  4.786840e+00\n",
       "3          pages_per_visit  2022-01-01  4.892697e+00\n",
       "4          pages_per_visit  2022-02-01  4.965844e+00\n",
       "5          pages_per_visit  2022-03-01  4.918370e+00\n",
       "6                   visits  2021-10-01  2.391936e+07\n",
       "7                   visits  2021-11-01  2.432365e+07\n",
       "8                   visits  2021-12-01  1.338677e+07\n",
       "9                   visits  2022-01-01  1.940304e+07\n",
       "10                  visits  2022-02-01  2.833882e+07\n",
       "11                  visits  2022-03-01  2.807715e+07\n",
       "12              mom_growth  2021-10-01  4.153002e-02\n",
       "13              mom_growth  2021-11-01  1.690226e-02\n",
       "14              mom_growth  2021-12-01 -4.496396e-01\n",
       "15              mom_growth  2022-01-01  4.494189e-01\n",
       "16              mom_growth  2022-02-01  4.605351e-01\n",
       "17              mom_growth  2022-03-01 -9.233903e-03\n",
       "18         unique_visitors  2021-10-01  4.518381e+06\n",
       "19         unique_visitors  2021-11-01  4.524764e+06\n",
       "20         unique_visitors  2021-12-01  3.355897e+06\n",
       "21         unique_visitors  2022-01-01  4.441010e+06\n",
       "22         unique_visitors  2022-02-01  5.645370e+06\n",
       "23         unique_visitors  2022-03-01  5.818075e+06\n",
       "24             bounce_rate  2021-10-01  2.438835e-01\n",
       "25             bounce_rate  2021-11-01  2.605655e-01\n",
       "26             bounce_rate  2021-12-01  2.797902e-01\n",
       "27             bounce_rate  2022-01-01  2.790474e-01\n",
       "28             bounce_rate  2022-02-01  2.742443e-01\n",
       "29             bounce_rate  2022-03-01  2.678584e-01\n",
       "30  average_visit_duration  2021-10-01  5.547552e+02\n",
       "31  average_visit_duration  2021-11-01  5.231005e+02\n",
       "32  average_visit_duration  2021-12-01  4.488943e+02\n",
       "33  average_visit_duration  2022-01-01  4.973509e+02\n",
       "34  average_visit_duration  2022-02-01  5.297885e+02\n",
       "35  average_visit_duration  2022-03-01  4.785888e+02"
      ]
     },
     "execution_count": 68,
     "metadata": {},
     "output_type": "execute_result"
    }
   ],
   "source": [
    "df"
   ]
  },
  {
   "cell_type": "code",
   "execution_count": 66,
   "metadata": {},
   "outputs": [
    {
     "data": {
      "text/plain": [
       "[{'dim': 'pages_per_visit', 'data': '2021-10-01', 'valor': 5.497139425069617},\n",
       " {'dim': 'pages_per_visit', 'data': '2021-11-01', 'valor': 5.128351714445687},\n",
       " {'dim': 'pages_per_visit', 'data': '2021-12-01', 'valor': 4.786839726923607},\n",
       " {'dim': 'pages_per_visit', 'data': '2022-01-01', 'valor': 4.892697235440528},\n",
       " {'dim': 'pages_per_visit', 'data': '2022-02-01', 'valor': 4.965843912467402},\n",
       " {'dim': 'pages_per_visit', 'data': '2022-03-01', 'valor': 4.918370368716338},\n",
       " {'dim': 'visits', 'data': '2021-10-01', 'valor': 23919358.826840796},\n",
       " {'dim': 'visits', 'data': '2021-11-01', 'valor': 24323650.00493394},\n",
       " {'dim': 'visits', 'data': '2021-12-01', 'valor': 13386773.41590859},\n",
       " {'dim': 'visits', 'data': '2022-01-01', 'valor': 19403042.220686164},\n",
       " {'dim': 'visits', 'data': '2022-02-01', 'valor': 28338824.93612089},\n",
       " {'dim': 'visits', 'data': '2022-03-01', 'valor': 28077146.962191932},\n",
       " {'dim': 'mom_growth', 'data': '2021-10-01', 'valor': 0.041530021548413065},\n",
       " {'dim': 'mom_growth', 'data': '2021-11-01', 'valor': 0.016902258167533855},\n",
       " {'dim': 'mom_growth', 'data': '2021-12-01', 'valor': -0.44963961357801374},\n",
       " {'dim': 'mom_growth', 'data': '2022-01-01', 'valor': 0.4494188866771998},\n",
       " {'dim': 'mom_growth', 'data': '2022-02-01', 'valor': 0.4605351374181942},\n",
       " {'dim': 'mom_growth', 'data': '2022-03-01', 'valor': -0.009233903470550092},\n",
       " {'dim': 'unique_visitors', 'data': '2021-10-01', 'valor': 4518380.576270923},\n",
       " {'dim': 'unique_visitors', 'data': '2021-11-01', 'valor': 4524763.667923428},\n",
       " {'dim': 'unique_visitors', 'data': '2021-12-01', 'valor': 3355897.0055511193},\n",
       " {'dim': 'unique_visitors', 'data': '2022-01-01', 'valor': 4441009.922252578},\n",
       " {'dim': 'unique_visitors', 'data': '2022-02-01', 'valor': 5645370.006801957},\n",
       " {'dim': 'unique_visitors', 'data': '2022-03-01', 'valor': 5818074.728162503},\n",
       " {'dim': 'bounce_rate', 'data': '2021-10-01', 'valor': 0.24388348019417078},\n",
       " {'dim': 'bounce_rate', 'data': '2021-11-01', 'valor': 0.26056552301922686},\n",
       " {'dim': 'bounce_rate', 'data': '2021-12-01', 'valor': 0.2797902083531343},\n",
       " {'dim': 'bounce_rate', 'data': '2022-01-01', 'valor': 0.27904739356685726},\n",
       " {'dim': 'bounce_rate', 'data': '2022-02-01', 'valor': 0.27424430512526604},\n",
       " {'dim': 'bounce_rate', 'data': '2022-03-01', 'valor': 0.2678584284676602},\n",
       " {'dim': 'average_visit_duration',\n",
       "  'data': '2021-10-01',\n",
       "  'valor': 554.7551731076899},\n",
       " {'dim': 'average_visit_duration',\n",
       "  'data': '2021-11-01',\n",
       "  'valor': 523.1005208696179},\n",
       " {'dim': 'average_visit_duration',\n",
       "  'data': '2021-12-01',\n",
       "  'valor': 448.8943332344819},\n",
       " {'dim': 'average_visit_duration',\n",
       "  'data': '2022-01-01',\n",
       "  'valor': 497.35085654258586},\n",
       " {'dim': 'average_visit_duration',\n",
       "  'data': '2022-02-01',\n",
       "  'valor': 529.788525176513},\n",
       " {'dim': 'average_visit_duration',\n",
       "  'data': '2022-03-01',\n",
       "  'valor': 478.58881024028005}]"
      ]
     },
     "execution_count": 66,
     "metadata": {},
     "output_type": "execute_result"
    }
   ],
   "source": [
    "lista"
   ]
  },
  {
   "cell_type": "code",
   "execution_count": 50,
   "metadata": {},
   "outputs": [
    {
     "name": "stderr",
     "output_type": "stream",
     "text": [
      "C:\\Users\\silvio.martins\\AppData\\Local\\Temp\\ipykernel_19448\\350271109.py:4: FutureWarning: The frame.append method is deprecated and will be removed from pandas in a future version. Use pandas.concat instead.\n",
      "  df = df.append({'dim':item,'data':item_1['date'],'valor':item_1['value']},ignore_index=False)\n"
     ]
    },
    {
     "ename": "TypeError",
     "evalue": "Can only append a dict if ignore_index=True",
     "output_type": "error",
     "traceback": [
      "\u001b[1;31m---------------------------------------------------------------------------\u001b[0m",
      "\u001b[1;31mTypeError\u001b[0m                                 Traceback (most recent call last)",
      "\u001b[1;32mc:\\Users\\silvio.martins\\OneDrive - Accenture\\Documents\\Silvio\\Lab_Python\\Pivot_Table_testes.ipynb Cell 40'\u001b[0m in \u001b[0;36m<cell line: 1>\u001b[1;34m()\u001b[0m\n\u001b[0;32m      <a href='vscode-notebook-cell:/c%3A/Users/silvio.martins/OneDrive%20-%20Accenture/Documents/Silvio/Lab_Python/Pivot_Table_testes.ipynb#ch0000033?line=1'>2</a>\u001b[0m \u001b[39mif\u001b[39;00m ind\u001b[39m>\u001b[39m\u001b[39m9\u001b[39m \u001b[39mand\u001b[39;00m ind\u001b[39m<\u001b[39m\u001b[39m16\u001b[39m:\n\u001b[0;32m      <a href='vscode-notebook-cell:/c%3A/Users/silvio.martins/OneDrive%20-%20Accenture/Documents/Silvio/Lab_Python/Pivot_Table_testes.ipynb#ch0000033?line=2'>3</a>\u001b[0m     \u001b[39mfor\u001b[39;00m ind_, item_1 \u001b[39min\u001b[39;00m \u001b[39menumerate\u001b[39m(jraw[item]):\n\u001b[1;32m----> <a href='vscode-notebook-cell:/c%3A/Users/silvio.martins/OneDrive%20-%20Accenture/Documents/Silvio/Lab_Python/Pivot_Table_testes.ipynb#ch0000033?line=3'>4</a>\u001b[0m        df \u001b[39m=\u001b[39m df\u001b[39m.\u001b[39;49mappend({\u001b[39m'\u001b[39;49m\u001b[39mdim\u001b[39;49m\u001b[39m'\u001b[39;49m:item,\u001b[39m'\u001b[39;49m\u001b[39mdata\u001b[39;49m\u001b[39m'\u001b[39;49m:item_1[\u001b[39m'\u001b[39;49m\u001b[39mdate\u001b[39;49m\u001b[39m'\u001b[39;49m],\u001b[39m'\u001b[39;49m\u001b[39mvalor\u001b[39;49m\u001b[39m'\u001b[39;49m:item_1[\u001b[39m'\u001b[39;49m\u001b[39mvalue\u001b[39;49m\u001b[39m'\u001b[39;49m]},ignore_index\u001b[39m=\u001b[39;49m\u001b[39mFalse\u001b[39;49;00m)\n",
      "File \u001b[1;32m~\\AppData\\Local\\Programs\\Python\\Python310\\lib\\site-packages\\pandas\\core\\frame.py:9023\u001b[0m, in \u001b[0;36mDataFrame.append\u001b[1;34m(self, other, ignore_index, verify_integrity, sort)\u001b[0m\n\u001b[0;32m   <a href='file:///c%3A/Users/silvio.martins/AppData/Local/Programs/Python/Python310/lib/site-packages/pandas/core/frame.py?line=8923'>8924</a>\u001b[0m \u001b[39m\"\"\"\u001b[39;00m\n\u001b[0;32m   <a href='file:///c%3A/Users/silvio.martins/AppData/Local/Programs/Python/Python310/lib/site-packages/pandas/core/frame.py?line=8924'>8925</a>\u001b[0m \u001b[39mAppend rows of `other` to the end of caller, returning a new object.\u001b[39;00m\n\u001b[0;32m   <a href='file:///c%3A/Users/silvio.martins/AppData/Local/Programs/Python/Python310/lib/site-packages/pandas/core/frame.py?line=8925'>8926</a>\u001b[0m \n\u001b[1;32m   (...)\u001b[0m\n\u001b[0;32m   <a href='file:///c%3A/Users/silvio.martins/AppData/Local/Programs/Python/Python310/lib/site-packages/pandas/core/frame.py?line=9012'>9013</a>\u001b[0m \u001b[39m4  4\u001b[39;00m\n\u001b[0;32m   <a href='file:///c%3A/Users/silvio.martins/AppData/Local/Programs/Python/Python310/lib/site-packages/pandas/core/frame.py?line=9013'>9014</a>\u001b[0m \u001b[39m\"\"\"\u001b[39;00m\n\u001b[0;32m   <a href='file:///c%3A/Users/silvio.martins/AppData/Local/Programs/Python/Python310/lib/site-packages/pandas/core/frame.py?line=9014'>9015</a>\u001b[0m warnings\u001b[39m.\u001b[39mwarn(\n\u001b[0;32m   <a href='file:///c%3A/Users/silvio.martins/AppData/Local/Programs/Python/Python310/lib/site-packages/pandas/core/frame.py?line=9015'>9016</a>\u001b[0m     \u001b[39m\"\u001b[39m\u001b[39mThe frame.append method is deprecated \u001b[39m\u001b[39m\"\u001b[39m\n\u001b[0;32m   <a href='file:///c%3A/Users/silvio.martins/AppData/Local/Programs/Python/Python310/lib/site-packages/pandas/core/frame.py?line=9016'>9017</a>\u001b[0m     \u001b[39m\"\u001b[39m\u001b[39mand will be removed from pandas in a future version. \u001b[39m\u001b[39m\"\u001b[39m\n\u001b[1;32m   (...)\u001b[0m\n\u001b[0;32m   <a href='file:///c%3A/Users/silvio.martins/AppData/Local/Programs/Python/Python310/lib/site-packages/pandas/core/frame.py?line=9019'>9020</a>\u001b[0m     stacklevel\u001b[39m=\u001b[39mfind_stack_level(),\n\u001b[0;32m   <a href='file:///c%3A/Users/silvio.martins/AppData/Local/Programs/Python/Python310/lib/site-packages/pandas/core/frame.py?line=9020'>9021</a>\u001b[0m )\n\u001b[1;32m-> <a href='file:///c%3A/Users/silvio.martins/AppData/Local/Programs/Python/Python310/lib/site-packages/pandas/core/frame.py?line=9022'>9023</a>\u001b[0m \u001b[39mreturn\u001b[39;00m \u001b[39mself\u001b[39;49m\u001b[39m.\u001b[39;49m_append(other, ignore_index, verify_integrity, sort)\n",
      "File \u001b[1;32m~\\AppData\\Local\\Programs\\Python\\Python310\\lib\\site-packages\\pandas\\core\\frame.py:9036\u001b[0m, in \u001b[0;36mDataFrame._append\u001b[1;34m(self, other, ignore_index, verify_integrity, sort)\u001b[0m\n\u001b[0;32m   <a href='file:///c%3A/Users/silvio.martins/AppData/Local/Programs/Python/Python310/lib/site-packages/pandas/core/frame.py?line=9033'>9034</a>\u001b[0m \u001b[39mif\u001b[39;00m \u001b[39misinstance\u001b[39m(other, \u001b[39mdict\u001b[39m):\n\u001b[0;32m   <a href='file:///c%3A/Users/silvio.martins/AppData/Local/Programs/Python/Python310/lib/site-packages/pandas/core/frame.py?line=9034'>9035</a>\u001b[0m     \u001b[39mif\u001b[39;00m \u001b[39mnot\u001b[39;00m ignore_index:\n\u001b[1;32m-> <a href='file:///c%3A/Users/silvio.martins/AppData/Local/Programs/Python/Python310/lib/site-packages/pandas/core/frame.py?line=9035'>9036</a>\u001b[0m         \u001b[39mraise\u001b[39;00m \u001b[39mTypeError\u001b[39;00m(\u001b[39m\"\u001b[39m\u001b[39mCan only append a dict if ignore_index=True\u001b[39m\u001b[39m\"\u001b[39m)\n\u001b[0;32m   <a href='file:///c%3A/Users/silvio.martins/AppData/Local/Programs/Python/Python310/lib/site-packages/pandas/core/frame.py?line=9036'>9037</a>\u001b[0m     other \u001b[39m=\u001b[39m Series(other)\n\u001b[0;32m   <a href='file:///c%3A/Users/silvio.martins/AppData/Local/Programs/Python/Python310/lib/site-packages/pandas/core/frame.py?line=9037'>9038</a>\u001b[0m \u001b[39mif\u001b[39;00m other\u001b[39m.\u001b[39mname \u001b[39mis\u001b[39;00m \u001b[39mNone\u001b[39;00m \u001b[39mand\u001b[39;00m \u001b[39mnot\u001b[39;00m ignore_index:\n",
      "\u001b[1;31mTypeError\u001b[0m: Can only append a dict if ignore_index=True"
     ]
    }
   ],
   "source": [
    "for ind, item in enumerate(jraw):\n",
    "    if ind>9 and ind<16:\n",
    "        for ind_, item_1 in enumerate(jraw[item]):\n",
    "           df = df.append({'dim':item,'data':item_1['date'],'valor':item_1['value']},ignore_index=False)\n",
    "\n",
    "    \n",
    "        "
   ]
  },
  {
   "cell_type": "code",
   "execution_count": 47,
   "metadata": {},
   "outputs": [
    {
     "data": {
      "text/html": [
       "<div>\n",
       "<style scoped>\n",
       "    .dataframe tbody tr th:only-of-type {\n",
       "        vertical-align: middle;\n",
       "    }\n",
       "\n",
       "    .dataframe tbody tr th {\n",
       "        vertical-align: top;\n",
       "    }\n",
       "\n",
       "    .dataframe thead th {\n",
       "        text-align: right;\n",
       "    }\n",
       "</style>\n",
       "<table border=\"1\" class=\"dataframe\">\n",
       "  <thead>\n",
       "    <tr style=\"text-align: right;\">\n",
       "      <th></th>\n",
       "      <th>dim</th>\n",
       "      <th>data</th>\n",
       "      <th>valor</th>\n",
       "    </tr>\n",
       "  </thead>\n",
       "  <tbody>\n",
       "  </tbody>\n",
       "</table>\n",
       "</div>"
      ],
      "text/plain": [
       "Empty DataFrame\n",
       "Columns: [dim, data, valor]\n",
       "Index: []"
      ]
     },
     "execution_count": 47,
     "metadata": {},
     "output_type": "execute_result"
    }
   ],
   "source": [
    "df"
   ]
  },
  {
   "cell_type": "code",
   "execution_count": null,
   "metadata": {},
   "outputs": [],
   "source": [
    "dados = pd.DataFrame.from_dict(requests.get('https://api.similarweb.com/v1/website/futemax.gratis/lead-enrichment/all?api_key=c829d712a1cb439e9a91c5baa2caa995&start_date=2021-10&end_date=2022-03&country=br&main_domain_only=false&format=json&show_verified=false').json(), orient='index')\n",
    "\n",
    "display(dados)"
   ]
  }
 ],
 "metadata": {
  "interpreter": {
   "hash": "e535579c4e7a4219c739f08400a6d0a45e0bad6409f7100fa27c03109eaa3c38"
  },
  "kernelspec": {
   "display_name": "Python 3.10.0 64-bit",
   "language": "python",
   "name": "python3"
  },
  "language_info": {
   "codemirror_mode": {
    "name": "ipython",
    "version": 3
   },
   "file_extension": ".py",
   "mimetype": "text/x-python",
   "name": "python",
   "nbconvert_exporter": "python",
   "pygments_lexer": "ipython3",
   "version": "3.10.0"
  },
  "orig_nbformat": 4
 },
 "nbformat": 4,
 "nbformat_minor": 2
}
