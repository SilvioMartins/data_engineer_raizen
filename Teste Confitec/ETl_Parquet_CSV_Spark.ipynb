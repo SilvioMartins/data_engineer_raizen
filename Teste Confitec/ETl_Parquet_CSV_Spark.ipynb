{
 "cells": [
  {
   "cell_type": "markdown",
   "metadata": {},
   "source": [
    "# Importando Bilbliotecas"
   ]
  },
  {
   "cell_type": "code",
   "execution_count": null,
   "metadata": {},
   "outputs": [],
   "source": [
    "from pyspark.sql import *\n",
    "from pyspark.sql.functions import *\n",
    "from pyspark.sql.types import *"
   ]
  },
  {
   "cell_type": "markdown",
   "metadata": {},
   "source": [
    "# Criação da sessão Spark"
   ]
  },
  {
   "cell_type": "code",
   "execution_count": null,
   "metadata": {},
   "outputs": [],
   "source": [
    "spark = SparkSession \\\n",
    "    .builder \\\n",
    "    .appName(\"Confitec\") \\\n",
    "    .config(\"spark.some.config.option\", \"some-value\") \\\n",
    "    .getOrCreate()"
   ]
  },
  {
   "cell_type": "markdown",
   "metadata": {},
   "source": [
    "# Leitura do arquivo Parquet"
   ]
  },
  {
   "cell_type": "code",
   "execution_count": null,
   "metadata": {},
   "outputs": [],
   "source": [
    "df = spark.read.parquet('/content/drive/MyDrive/Confitec/OriginaisNetflix.parquet')"
   ]
  },
  {
   "cell_type": "markdown",
   "metadata": {},
   "source": [
    "# Transformar  os campos Premiere e dt_Inclusao para datetime"
   ]
  },
  {
   "cell_type": "code",
   "execution_count": null,
   "metadata": {},
   "outputs": [],
   "source": [
    "df = df.withColumn('mes', substring('Premiere', -6,3)).withColumn('ano', substring('Premiere', -2,3)).withColumn('dia', substring('Premiere', 1,2))\n",
    "df = df.withColumn(\"dia\", regexp_replace(col(\"dia\"), \"\"\"-\"\"\", \"\"))\n",
    "\n",
    "meses = {'Jan': '01',\n",
    "         'Feb': '02',\n",
    "         'Mar': '03',\n",
    "         'Apr': '04',\n",
    "         'May': '05',\n",
    "         'Jun': '06',\n",
    "         'Jul': '07',\n",
    "         'Aug': '08',\n",
    "         'Sep': '09',\n",
    "         'Oct': '10',\n",
    "         'Nov': '11',\n",
    "         'Dec': '12'}\n",
    "\n",
    "df = df.replace(meses,subset=[\"mes\"])\n",
    "df  = df.withColumn(\"Premiere\",concat(lit(\"20\"),col(\"ano\"),lit(\"-\"),col(\"mes\"),lit(\"-\"),col(\"dia\")))\n",
    "\n",
    "df = df.withColumn(\"Premiere\",date_format('Premiere', 'yyy-MM-dd'))\n",
    "df.withColumn(\"dt_inclusao\",to_date(col(\"dt_inclusao\")))\n",
    "df =  df.withColumn(\"Premiere\",to_date(col(\"dt_inclusao\")))"
   ]
  },
  {
   "cell_type": "markdown",
   "metadata": {},
   "source": [
    "# Ordenar por ativos d genero de forma descrecente"
   ]
  },
  {
   "cell_type": "code",
   "execution_count": null,
   "metadata": {},
   "outputs": [],
   "source": [
    "df = df.sort(col(\"Active\").desc(),col(\"Genre\").asc())"
   ]
  },
  {
   "cell_type": "markdown",
   "metadata": {},
   "source": [
    "# Remoção das duplicatas e troca do resultado TBA por \"a ser anunciado\""
   ]
  },
  {
   "cell_type": "code",
   "execution_count": null,
   "metadata": {},
   "outputs": [],
   "source": [
    "df = df.distinct()\n",
    "df = df.withColumn(\"Seasons\", regexp_replace(col(\"Seasons\"), \"TBA\", \"a ser anunciado\"))"
   ]
  },
  {
   "cell_type": "markdown",
   "metadata": {},
   "source": [
    "# Criação da coluna data de alteração como timestamp"
   ]
  },
  {
   "cell_type": "code",
   "execution_count": null,
   "metadata": {},
   "outputs": [],
   "source": [
    "df = df.withColumn('Data de Alteração',current_timestamp())"
   ]
  },
  {
   "cell_type": "markdown",
   "metadata": {},
   "source": [
    "# Troca dos nomes das colunas de ingles para Português"
   ]
  },
  {
   "cell_type": "code",
   "execution_count": null,
   "metadata": {},
   "outputs": [],
   "source": [
    "df = df.select(\n",
    "    col(\"Title\").alias(\"Título\"),\n",
    "    col(\"Genre\").alias(\"Gênero\"),\n",
    "    col(\"GenreLabels\").alias(\"Gênero Por Classificação\"),\n",
    "    col(\"Premiere\").alias(\"Pré Estréia\"),\n",
    "    col(\"Seasons\").alias(\"Temporadas\"),\n",
    "    col(\"SeasonsParsed\").alias(\"Avaliação da Temporada\"),\n",
    "    col(\"EpisodesParsed\").alias(\"Avaliação do Episódio\"),\n",
    "    col(\"Length\").alias(\"Duração\"),\n",
    "    col(\"MinLength\").alias(\"Mínima Duração\"),\n",
    "    col(\"MaxLength\").alias(\"Máxima Duração\"),\n",
    "    col(\"Status\").alias(\"Situação\"),\n",
    "    col(\"Active\").alias(\"Ativo\"),\n",
    "    col(\"Table\").alias(\"Tipo de Gênero\"),\n",
    "    col(\"Language\").alias(\"Idioma\"),\n",
    "    col(\"dt_inclusao\").alias(\"Data de Inclusão\"),\n",
    "    col(\"Data de Alteração\")\n",
    ")"
   ]
  },
  {
   "cell_type": "markdown",
   "metadata": {},
   "source": [
    "# Salvar o arquivo no formato csv "
   ]
  },
  {
   "cell_type": "code",
   "execution_count": null,
   "metadata": {},
   "outputs": [],
   "source": [
    "df.write.option(\"header\",True).option(\"delimiter\",\";\").csv(\"/content/drive/MyDrive/Confitec/OriginaisNetflix\")\n"
   ]
  }
 ],
 "metadata": {
  "language_info": {
   "name": "python"
  },
  "orig_nbformat": 4
 },
 "nbformat": 4,
 "nbformat_minor": 2
}
